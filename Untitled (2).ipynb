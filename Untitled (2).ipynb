{
 "cells": [
  {
   "cell_type": "markdown",
   "id": "69458b30",
   "metadata": {},
   "source": [
    "1. How many multiplications and additions do you need to perform a matrix multiplication between a (n, k) and (k, m) matrix? Explain.\n",
    "\n",
    "To compute each element in the resulting matrix C, we perform k multiplications and k-1 additions for a total of k operations. As there are n * m elements in the resulting matrix C, we do n * m * k multiplications and n * m * (k - 1) additions.\n",
    "So in total we do n * m * (2k - 1) operations.\n"
   ]
  },
  {
   "cell_type": "code",
   "execution_count": 1,
   "id": "66483fb9",
   "metadata": {},
   "outputs": [
    {
     "name": "stdout",
     "output_type": "stream",
     "text": [
      "Manual Multiplication Time: 0.100039 seconds\n",
      "NumPy Multiplication Time: 0.085703 seconds\n"
     ]
    }
   ],
   "source": [
    "# 2. Write Python code to multiply the above two matrices. Solve using list of lists and then use numpy. \n",
    "#    Compare the timing of both solutions. Which one is faster? Why?\n",
    "\n",
    "import numpy as np\n",
    "import timeit\n",
    "\n",
    "a = [[1, 2], [2, 3]]\n",
    "b = [[3, 2], [2, 1]]\n",
    "r = [[0, 0], [0, 0]]\n",
    "\n",
    "# Timing manual multiplication\n",
    "manual_time = timeit.timeit(\n",
    "    lambda: [[sum(a[i][k] * b[k][j] for k in range(2)) for j in range(2)] for i in range(2)],\n",
    "    number=10000  # Adjust the number of iterations as needed\n",
    ")\n",
    "\n",
    "# Timing NumPy multiplication\n",
    "numpy_time = timeit.timeit(\n",
    "    lambda: np.dot(a, b),\n",
    "    number=10000  # Adjust the number of iterations as needed\n",
    ")\n",
    "\n",
    "print(f\"Manual Multiplication Time: {manual_time:.6f} seconds\")\n",
    "print(f\"NumPy Multiplication Time: {numpy_time:.6f} seconds\")\n"
   ]
  },
  {
   "cell_type": "markdown",
   "id": "1a0d52c5",
   "metadata": {},
   "source": [
    "Numpy multiplication is faster because NumPy operations are implemented in C and optimized for performance. Matrix multiplication in NumPy is highly vectorized, allowing it to leverage low-level optimizations and efficiently perform the multiplication."
   ]
  },
  {
   "cell_type": "markdown",
   "id": "e6f86775",
   "metadata": {},
   "source": [
    "3. Finding the highest element in a list requires one pass of the array. Finding the second highest element requires 2 passes of the the array. Using this method, what is the time complexity of finding the median of the array? Can you suggest a better method? Can you implement both these methods in Python and compare against numpy.median routine in terms of time?"
   ]
  },
  {
   "cell_type": "code",
   "execution_count": 2,
   "id": "f1ab0f62",
   "metadata": {},
   "outputs": [
    {
     "name": "stdout",
     "output_type": "stream",
     "text": [
      "Time taken for inefficient method: 12.754555940628052 seconds\n",
      "Time taken for efficient method (QuickSelect): 0.008157730102539062 seconds\n",
      "Time taken for NumPy median: 0.0030434131622314453 seconds\n"
     ]
    }
   ],
   "source": [
    "import numpy as np\n",
    "import time\n",
    "\n",
    "def find_median1(arr):\n",
    "    temp1=0\n",
    "    temp2=0\n",
    "    maxm=0\n",
    "    times=int(len(arr)/2) + 1\n",
    "    for i in range(times):\n",
    "        max_index=0\n",
    "        temp2=maxm\n",
    "        maxm=arr[0]\n",
    "        for j in range(len(arr)):\n",
    "            if(arr[j] > maxm):\n",
    "                maxm=arr[j]\n",
    "                max_index=j\n",
    "            temp1=maxm\n",
    "        arr = np.delete(arr, max_index)\n",
    "\n",
    "    if(len(arr)%2==1):\n",
    "        return temp1\n",
    "    else:\n",
    "        return (temp1+temp2)*0.5\n",
    " \n",
    " # Sort the array and find the middle term\n",
    "def find_median2(arr):\n",
    "    sorted_arr = sorted(arr)\n",
    "    n = len(sorted_arr)\n",
    "\n",
    "    if n % 2 == 1:\n",
    "        # If the length of the array is odd, return the middle element\n",
    "        return sorted_arr[n // 2]\n",
    "    else:\n",
    "        # If the length of the array is even, return the average of the two middle elements\n",
    "        middle1 = sorted_arr[n // 2 - 1]\n",
    "        middle2 = sorted_arr[n // 2]\n",
    "        return (middle1 + middle2) / 2\n",
    "\n",
    "    \n",
    "\n",
    "# Generate a random array for testing\n",
    "arr = np.random.rand(10**4)\n",
    "\n",
    "# Compare execution time\n",
    "start_time = time.time()\n",
    "median_passes = find_median1(arr.copy())\n",
    "end_time = time.time()\n",
    "print(f\"Time taken for inefficient method: {end_time - start_time} seconds\")\n",
    "\n",
    "start_time = time.time()\n",
    "median_quickselect = find_median2(arr.copy())\n",
    "end_time = time.time()\n",
    "print(f\"Time taken for efficient method (QuickSelect): {end_time - start_time} seconds\")\n",
    "\n",
    "start_time = time.time()\n",
    "median_numpy = np.median(arr)\n",
    "end_time = time.time()\n",
    "print(f\"Time taken for NumPy median: {end_time - start_time} seconds\")\n",
    "\n"
   ]
  },
  {
   "cell_type": "markdown",
   "id": "2a19fbe7",
   "metadata": {},
   "source": [
    "4. What is the gradient of the following function with respect to x and y?\n",
    "     (x^2 * y) + (y^3 * sin(x))\n",
    "     \n",
    "     Ans=> grad f(x, y) = (2*x*y + y^3 * cos(x)) i + (x^2 +3 * y^2 * sin(x)) j"
   ]
  },
  {
   "cell_type": "markdown",
   "id": "3d719be4",
   "metadata": {},
   "source": [
    "5. Use JAX to confirm the gradient evaluated by your method matches the analytical solution corresponding to a few random values of x and y"
   ]
  },
  {
   "cell_type": "code",
   "execution_count": 3,
   "id": "af041da8",
   "metadata": {},
   "outputs": [
    {
     "name": "stdout",
     "output_type": "stream",
     "text": [
      "Analytical Gradient: (Array(0.7640352, dtype=float32, weak_type=True), Array(28.55103, dtype=float32, weak_type=True))\n",
      "JAX Gradient: (Array(0.7640352, dtype=float32, weak_type=True), Array(28.55103, dtype=float32, weak_type=True))\n"
     ]
    }
   ],
   "source": [
    "import jax\n",
    "import jax.numpy as jnp\n",
    "\n",
    "def f(x, y):\n",
    "    return x**2 * y + y**3 * jnp.sin(x)\n",
    "\n",
    "grad_analytical = jax.grad(f, argnums=(0, 1))\n",
    "\n",
    "# Testing with random values\n",
    "x_val = 2.0\n",
    "y_val = 3.0\n",
    "\n",
    "grad_numerical = grad_analytical(x_val, y_val)\n",
    "\n",
    "print(f\"Analytical Gradient: {grad_numerical}\")\n",
    "\n",
    "# JAX verification\n",
    "jax_grad = jax.grad(f, argnums=(0, 1))\n",
    "jax_grad_numerical = jax_grad(x_val, y_val)\n",
    "\n",
    "print(f\"JAX Gradient: {jax_grad_numerical}\")\n"
   ]
  },
  {
   "cell_type": "markdown",
   "id": "f0e93530",
   "metadata": {},
   "source": [
    "6. Use sympy to confirm that you obtain the same gradient analytically.\n",
    "\n"
   ]
  },
  {
   "cell_type": "code",
   "execution_count": 4,
   "id": "d70791c3",
   "metadata": {},
   "outputs": [
    {
     "name": "stdout",
     "output_type": "stream",
     "text": [
      "Analytical Gradient (Sympy): [0.764035413227155, 28.5510305242934]\n"
     ]
    }
   ],
   "source": [
    "import sympy as sp\n",
    "\n",
    "# Define symbolic variables\n",
    "x, y = sp.symbols('x y')\n",
    "\n",
    "# Define the function\n",
    "f_sympy = x**2 * y + y**3 * sp.sin(x)\n",
    "\n",
    "# Compute the gradient symbolically\n",
    "grad_sympy = [sp.diff(f_sympy, var) for var in (x, y)]\n",
    "\n",
    "# Evaluate the analytical gradient at specific values\n",
    "x_val = 2.0\n",
    "y_val = 3.0\n",
    "\n",
    "grad_analytical_evaluated = [sp.N(g.subs({x: x_val, y: y_val})) for g in grad_sympy]\n",
    "\n",
    "print(f\"Analytical Gradient (Sympy): {grad_analytical_evaluated}\")\n",
    "\n",
    "\n"
   ]
  },
  {
   "cell_type": "markdown",
   "id": "7e634ea2",
   "metadata": {},
   "source": [
    "7. Create a Python nested dictionary to represent hierarchical information. We want to store record of students and their marks. Something like:\n",
    "\n",
    "2022\n",
    "Branch 1\n",
    "Roll Number: 1, Name: N, Marks:\n",
    "Maths: 100, English: 70 …\n",
    "Branch 2\n",
    "2023\n",
    "Branch 1\n",
    "Branch 2\n",
    "2024\n",
    "Branch 1\n",
    "Branch 2\n",
    "2025\n",
    "Branch 1\n",
    "Branch 2"
   ]
  },
  {
   "cell_type": "code",
   "execution_count": 5,
   "id": "461fc4de",
   "metadata": {},
   "outputs": [
    {
     "name": "stdout",
     "output_type": "stream",
     "text": [
      "Sample Information:\n",
      "Year: 2022, Branch: Branch 1, S1 detail: {'Roll Number': 1, 'Name': 'N', 'Marks': {'Maths': 100, 'English': 70}}\n",
      "Year: 2022, Branch: Branch 1, Student no: 1, Marks: {'Maths': 100, 'English': 70}\n"
     ]
    }
   ],
   "source": [
    "student_records = {\n",
    "    2022: {\n",
    "        'Branch 1': {\n",
    "            'S1':{\n",
    "                'Roll Number': 1,\n",
    "                'Name': 'N',\n",
    "                'Marks': {\n",
    "                    'Maths': 100,\n",
    "                    'English': 70  \n",
    "                }\n",
    "            }\n",
    "        },\n",
    "        'Branch 2': {\n",
    "            # Add student records for Branch 2 in 2022 \n",
    "        }\n",
    "    },\n",
    "    2023: {\n",
    "        'Branch 1': {\n",
    "            # Add student records for Branch 1 in 2023\n",
    "        },\n",
    "        'Branch 2': {\n",
    "            # Add student records for Branch 2 in 2023\n",
    "        }\n",
    "    },\n",
    "    2024: {\n",
    "        'Branch 1': {\n",
    "            # Add student records for Branch 1 in 2024\n",
    "        },\n",
    "        'Branch 2': {\n",
    "            # Add student records for Branch 2 in 2024\n",
    "        }\n",
    "    },\n",
    "    2025: {\n",
    "        'Branch 1': {\n",
    "            # Add student records for Branch 1 in 2025\n",
    "        },\n",
    "        'Branch 2': {\n",
    "            # Add student records for Branch 2 in 2025\n",
    "        }\n",
    "    }\n",
    "}\n",
    "\n",
    "# Accessing and printing sample information\n",
    "print(\"Sample Information:\")\n",
    "print(\"Year: 2022, Branch: Branch 1, S1 detail:\", student_records[2022]['Branch 1']['S1'])\n",
    "print(\"Year: 2022, Branch: Branch 1, Student no: 1, Marks:\", student_records[2022]['Branch 1']['S1']['Marks'])\n"
   ]
  },
  {
   "cell_type": "code",
   "execution_count": 6,
   "id": "cd10014e",
   "metadata": {},
   "outputs": [
    {
     "name": "stdout",
     "output_type": "stream",
     "text": [
      "Sample Information:\n",
      "Year: 2022, Branch: Branch 1, Student details: {'roll_number': 1, 'name': 'N', 'marks': {'Maths': 100, 'English': 70}}\n",
      "Year: 2022, Branch: Branch 1, Student no: 1, Marks: {'Maths': 100, 'English': 70}\n"
     ]
    }
   ],
   "source": [
    "# 8. Store the same information using Python classes. We have an overall database which is a list of year objects. \n",
    "#Each year contains a list of branches. Each branch contains a list of students. \n",
    "#Each student has some properties like name, roll number and has marks in some subjects.\n",
    "\n",
    "class Student:\n",
    "    def __init__(self, roll_number, name, marks):\n",
    "        self.roll_number = roll_number\n",
    "        self.name = name\n",
    "        self.marks = marks\n",
    "\n",
    "\n",
    "class Branch:\n",
    "    def __init__(self, branch_name):\n",
    "        self.branch_name = branch_name\n",
    "        self.students = []\n",
    "\n",
    "    def add_student(self, student):\n",
    "        self.students.append(student)\n",
    "\n",
    "\n",
    "class Year:\n",
    "    def __init__(self, year):\n",
    "        self.year = year\n",
    "        self.branches = []\n",
    "\n",
    "    def add_branch(self, branch):\n",
    "        self.branches.append(branch)\n",
    "\n",
    "\n",
    "# Creating instances of the classes and storing the information\n",
    "year_objects = []\n",
    "\n",
    "# Adding information for the year 2022\n",
    "year_2022 = Year(2022)\n",
    "\n",
    "branch_1_2022 = Branch('Branch 1')\n",
    "student_1_2022 = Student(1, 'N', {'Maths': 100, 'English': 70})\n",
    "\n",
    "branch_1_2022.add_student(student_1_2022)\n",
    "\n",
    "year_2022.add_branch(branch_1_2022)\n",
    "\n",
    "# You can add information for other branches, students, and years in a similar manner.\n",
    "\n",
    "# Adding the Year object to the overall database\n",
    "year_objects.append(year_2022)\n",
    "\n",
    "# Accessing and printing sample information\n",
    "print(\"Sample Information:\")\n",
    "print(\"Year: 2022, Branch: Branch 1, Student details:\", year_objects[0].branches[0].students[0].__dict__)\n",
    "print(\"Year: 2022, Branch: Branch 1, Student no: 1, Marks:\", year_objects[0].branches[0].students[0].marks)\n"
   ]
  },
  {
   "cell_type": "markdown",
   "id": "2fa96d32",
   "metadata": {},
   "source": [
    "9. Using matplotlib plot the following functions on the domain: x = 0.5 to 100.0 in steps of 0.5.\n",
    "\n"
   ]
  },
  {
   "cell_type": "code",
   "execution_count": 7,
   "id": "767181e6",
   "metadata": {},
   "outputs": [
    {
     "data": {
      "image/png": "[encoded data removed]",
      "text/plain": [
       "<Figure size 640x480 with 1 Axes>"
      ]
     },
     "metadata": {},
     "output_type": "display_data"
    }
   ],
   "source": [
    "import matplotlib.pyplot as plt\n",
    "import numpy as np\n",
    "\n",
    "# Define the domain\n",
    "x_values = np.arange(0.5, 100.5, 0.5)\n",
    "\n",
    "# Define the functions\n",
    "y1 = x_values\n",
    "y2 = x_values**2\n",
    "y3 = x_values**3 / 100\n",
    "y4 = np.sin(x_values)\n",
    "y5 = np.sin(x_values) / x_values\n",
    "y6 = np.log(x_values)\n",
    "y7 = np.exp(x_values)\n",
    "\n",
    "# Plotting y = x\n",
    "plt.plot(x_values, y1, label='y = x')\n",
    "\n",
    "# Plotting y = x^2\n",
    "plt.plot(x_values, y2, label='y = x^2')\n",
    "\n",
    "# Plotting y = x^3 / 100\n",
    "plt.plot(x_values, y3, label='y = x^3 / 100')\n",
    "\n",
    "# Plotting y = sin(x)\n",
    "plt.plot(x_values, y4, label='y = sin(x)')\n",
    "\n",
    "# Plotting y = sin(x)/x\n",
    "plt.plot(x_values, y5, label='y = sin(x)/x')\n",
    "\n",
    "# Plotting y = log(x)\n",
    "plt.plot(x_values, y6, label='y = log(x)')\n",
    "\n",
    "# Plotting y = e^x\n",
    "plt.plot(x_values, y7, label='y = e^x')\n",
    "\n",
    "# Adding labels and title\n",
    "plt.xlabel('x')\n",
    "plt.ylabel('y')\n",
    "plt.title('Plot of given functions')\n",
    "plt.legend()\n",
    "\n",
    "# Display the plot\n",
    "plt.ylim(-1, 100)\n",
    "plt.show()\n"
   ]
  },
  {
   "cell_type": "code",
   "execution_count": null,
   "id": "f05e4220",
   "metadata": {},
   "outputs": [],
   "source": []
  },
  {
   "cell_type": "code",
   "execution_count": 8,
   "id": "b87ade55",
   "metadata": {},
   "outputs": [
    {
     "name": "stdout",
     "output_type": "stream",
     "text": [
      "DataFrame:\n",
      "           a         b         c         d         e\n",
      "0   1.895327  1.325131  1.032121  1.072283  1.438643\n",
      "1   1.874191  1.077458  1.882920  1.951651  1.815344\n",
      "2   1.496446  1.341002  1.637740  1.107456  1.199347\n",
      "3   1.497743  1.192898  1.247563  1.154021  1.790834\n",
      "4   1.807939  1.099569  1.276775  1.086330  1.678460\n",
      "5   1.150233  1.155618  1.941148  1.899250  1.134427\n",
      "6   1.673439  1.494695  1.931556  1.803400  1.028290\n",
      "7   1.188917  1.935891  1.356596  1.298496  1.691752\n",
      "8   1.920625  1.459460  1.330504  1.693493  1.688257\n",
      "9   1.802459  1.322846  1.039622  1.888318  1.131094\n",
      "10  1.408441  1.617337  1.921990  1.293867  1.116902\n",
      "11  1.998709  1.092359  1.503405  1.357633  1.473899\n",
      "12  1.472081  1.402434  1.351989  1.639837  1.735973\n",
      "13  1.154252  1.033808  1.965716  1.448495  1.655330\n",
      "14  1.502649  1.277907  1.022737  1.362851  1.615645\n",
      "15  1.483470  1.737587  1.463815  1.995727  1.123939\n",
      "16  1.316327  1.973016  1.832783  1.980103  1.165173\n",
      "17  1.274265  1.574074  1.054381  1.248429  1.191320\n",
      "18  1.760663  1.524005  1.911826  1.745795  1.319371\n",
      "19  1.463687  1.461208  1.585282  1.766972  1.109471\n",
      "\n",
      "Column with Highest Standard Deviation: c\n",
      "Row with Lowest Mean: 17\n"
     ]
    }
   ],
   "source": [
    "#10 Using numpy generate a matrix of size 20X5 containing random numbers drawn uniformly from the range of 1 to 2. \n",
    "#   Using Pandas create a dataframe out of this matrix. Name the columns of the dataframe as “a”, “b”, “c”, “d”, “e”. \n",
    "#   Find the column with the highest standard deviation. Find the row with the lowest mean.\n",
    "\n",
    "import numpy as np\n",
    "import pandas as pd\n",
    "\n",
    "# Generate a matrix of size 20x5 with random numbers between 1 and 2\n",
    "random_matrix = np.random.uniform(1, 2, size=(20, 5))\n",
    "\n",
    "# Create a Pandas DataFrame with named columns\n",
    "df = pd.DataFrame(random_matrix, columns=['a', 'b', 'c', 'd', 'e'])\n",
    "\n",
    "# Find the column with the highest standard deviation\n",
    "highest_std_column = df.std().idxmax()\n",
    "\n",
    "# Find the row with the lowest mean\n",
    "lowest_mean_row = df.mean(axis=1).idxmin()\n",
    "\n",
    "print(\"DataFrame:\")\n",
    "print(df)\n",
    "print(\"\\nColumn with Highest Standard Deviation:\", highest_std_column)\n",
    "print(\"Row with Lowest Mean:\", lowest_mean_row)\n"
   ]
  },
  {
   "cell_type": "code",
   "execution_count": 9,
   "id": "52f92947",
   "metadata": {},
   "outputs": [
    {
     "name": "stdout",
     "output_type": "stream",
     "text": [
      "DataFrame:\n",
      "           a         b         c         d         e         f    g\n",
      "0   1.440652  1.885343  1.493668  1.087299  1.225930  7.132891  LT8\n",
      "1   1.563874  1.966110  1.434549  1.583448  1.320534  7.868515  LT8\n",
      "2   1.174900  1.713052  1.388382  1.559734  1.992326  7.828394  LT8\n",
      "3   1.060062  1.838202  1.909593  1.995159  1.929721  8.732738  GT8\n",
      "4   1.942597  1.980348  1.193353  1.589697  1.412686  8.118680  GT8\n",
      "5   1.611059  1.231560  1.871072  1.919974  1.750737  8.384402  GT8\n",
      "6   1.795773  1.392884  1.770288  1.627955  1.564990  8.151890  GT8\n",
      "7   1.976728  1.199691  1.405114  1.527870  1.051046  7.160449  LT8\n",
      "8   1.014196  1.558352  1.166919  1.195841  1.433105  6.368413  LT8\n",
      "9   1.025982  1.292150  1.607702  1.001198  1.133426  6.060457  LT8\n",
      "10  1.790649  1.792754  1.113704  1.315211  1.902830  7.915148  LT8\n",
      "11  1.791366  1.001654  1.643111  1.884134  1.134497  7.454760  LT8\n",
      "12  1.885644  1.914107  1.010092  1.220441  1.839198  7.869483  LT8\n",
      "13  1.700478  1.762339  1.894686  1.996212  1.839067  9.192781  GT8\n",
      "14  1.665682  1.538651  1.917135  1.934383  1.835214  8.891066  GT8\n",
      "15  1.991898  1.170509  1.778550  1.123219  1.708109  7.772285  LT8\n",
      "16  1.168835  1.048338  1.864895  1.380940  1.607304  7.070312  LT8\n",
      "17  1.217386  1.665655  1.135366  1.366020  1.554440  6.938867  LT8\n",
      "18  1.460021  1.763439  1.941622  1.628098  1.512416  8.305596  GT8\n",
      "19  1.426058  1.708981  1.699557  1.672541  1.651343  8.158479  GT8\n",
      "\n",
      "Number of rows where the value in column 'g' is 'LT8': 12\n",
      "Standard deviation of column 'f' where 'g' is 'LT8': 0.6168020766731395\n",
      "Standard deviation of column 'f' where 'g' is 'GT8': 0.4001615537915752\n"
     ]
    }
   ],
   "source": [
    "# 11. Add a new column to the dataframe called “f” which is the sum of the columns “a”, “b”, “c”, “d”, “e”. \n",
    "#Create another column called “g”. The value in the column “g” should be “LT8” if the value in the column “f” is less than 8 and\n",
    "#“GT8” otherwise. Find the number of rows in the dataframe where the value in the column “g” is “LT8”. \n",
    "#Find the standard deviation of the column “f” for the rows where the value in the column “g” is “LT8” and “GT8” respectively.\n",
    "\n",
    "import numpy as np\n",
    "import pandas as pd\n",
    "\n",
    "# Generate a matrix of size 20x5 with random numbers between 1 and 2\n",
    "random_matrix = np.random.uniform(1, 2, size=(20, 5))\n",
    "\n",
    "# Create a Pandas DataFrame with named columns\n",
    "df = pd.DataFrame(random_matrix, columns=['a', 'b', 'c', 'd', 'e'])\n",
    "\n",
    "# Add a new column \"f\" which is the sum of columns \"a\", \"b\", \"c\", \"d\", \"e\"\n",
    "df['f'] = df[['a', 'b', 'c', 'd', 'e']].sum(axis=1)\n",
    "\n",
    "# Add a new column \"g\" based on the value in column \"f\"\n",
    "df['g'] = np.where(df['f'] < 8, 'LT8', 'GT8')\n",
    "\n",
    "# Find the number of rows where the value in column \"g\" is \"LT8\"\n",
    "num_lt8_rows = len(df[df['g'] == 'LT8'])\n",
    "\n",
    "# Find the standard deviation of column \"f\" for rows where \"g\" is \"LT8\" and \"GT8\" respectively\n",
    "std_lt8 = df.loc[df['g'] == 'LT8', 'f'].std()\n",
    "std_gt8 = df.loc[df['g'] == 'GT8', 'f'].std()\n",
    "\n",
    "# Display the DataFrame\n",
    "print(\"DataFrame:\")\n",
    "print(df)\n",
    "\n",
    "# Display the results\n",
    "print(\"\\nNumber of rows where the value in column 'g' is 'LT8':\", num_lt8_rows)\n",
    "print(\"Standard deviation of column 'f' where 'g' is 'LT8':\", std_lt8)\n",
    "print(\"Standard deviation of column 'f' where 'g' is 'GT8':\", std_gt8)\n"
   ]
  },
  {
   "cell_type": "markdown",
   "id": "3f65a5a5",
   "metadata": {},
   "source": [
    "12. Write a small piece of code to explain broadcasting in numpy\n",
    "\n",
    "\n",
    "Broadcasting in NumPy is a powerful mechanism that allows operations on arrays of different shapes and sizes. It eliminates the need for explicit loop structures, making code more concise and efficient. Here's a simple example to demonstrate broadcasting:"
   ]
  },
  {
   "cell_type": "code",
   "execution_count": 10,
   "id": "734656ca",
   "metadata": {},
   "outputs": [
    {
     "name": "stdout",
     "output_type": "stream",
     "text": [
      "Original 2D Array:\n",
      "[[1 2 3]\n",
      " [4 5 6]]\n",
      "\n",
      "Adding a Scalar (Broadcasting):\n",
      "[[3 4 5]\n",
      " [6 7 8]]\n",
      "\n",
      "Original 2D Array:\n",
      "[[1 2 3]\n",
      " [4 5 6]]\n",
      "\n",
      "Adding a 1D Array (Broadcasting):\n",
      "[[11 22 33]\n",
      " [14 25 36]]\n"
     ]
    }
   ],
   "source": [
    "import numpy as np\n",
    "\n",
    "# Example arrays\n",
    "a = np.array([[1, 2, 3], \n",
    "              [4, 5, 6]])\n",
    "\n",
    "b = np.array([10, 20, 30])\n",
    "\n",
    "# Broadcasting: Adding a scalar to a 2D array\n",
    "result = a + 2\n",
    "\n",
    "print(\"Original 2D Array:\")\n",
    "print(a)\n",
    "print(\"\\nAdding a Scalar (Broadcasting):\")\n",
    "print(result)\n",
    "\n",
    "# Broadcasting: Adding a 1D array to a 2D array\n",
    "result = a + b\n",
    "\n",
    "print(\"\\nOriginal 2D Array:\")\n",
    "print(a)\n",
    "print(\"\\nAdding a 1D Array (Broadcasting):\")\n",
    "print(result)\n"
   ]
  },
  {
   "cell_type": "code",
   "execution_count": 11,
   "id": "d6f2aeeb",
   "metadata": {},
   "outputs": [
    {
     "name": "stdout",
     "output_type": "stream",
     "text": [
      "Custom argmin result: 3\n",
      "np.argmin result: 3\n"
     ]
    }
   ],
   "source": [
    "# 13. Write a function to compute the argmin of a numpy array. The function should take a numpy array as input and \n",
    "#     return the index of the minimum element. You can use the np.argmin function to verify your solution.\n",
    "\n",
    "import numpy as np\n",
    "\n",
    "def custom_argmin(arr):\n",
    "    # Find the index of the minimum element using a loop\n",
    "    min_index = 0\n",
    "    min_value = arr[0]\n",
    "\n",
    "    for i in range(1, len(arr)):\n",
    "        if arr[i] < min_value:\n",
    "            min_value = arr[i]\n",
    "            min_index = i\n",
    "\n",
    "    return min_index\n",
    "\n",
    "# Example usage\n",
    "array_to_check = np.array([5, 2, 8, 1, 3, 7])\n",
    "\n",
    "# Using the custom function\n",
    "result_custom = custom_argmin(array_to_check)\n",
    "\n",
    "# Using np.argmin to verify\n",
    "result_np = np.argmin(array_to_check)\n",
    "\n",
    "print(\"Custom argmin result:\", result_custom)\n",
    "print(\"np.argmin result:\", result_np)\n",
    "\n"
   ]
  },
  {
   "cell_type": "code",
   "execution_count": null,
   "id": "b2d99452",
   "metadata": {},
   "outputs": [],
   "source": []
  }
 ],
 "metadata": {
  "kernelspec": {
   "display_name": "Python 3 (ipykernel)",
   "language": "python",
   "name": "python3"
  },
  "language_info": {
   "codemirror_mode": {
    "name": "ipython",
    "version": 3
   },
   "file_extension": ".py",
   "mimetype": "text/x-python",
   "name": "python",
   "nbconvert_exporter": "python",
   "pygments_lexer": "ipython3",
   "version": "3.9.13"
  }
 },
 "nbformat": 4,
 "nbformat_minor": 5
}
